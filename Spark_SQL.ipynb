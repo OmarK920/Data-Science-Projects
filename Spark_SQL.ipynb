{
  "nbformat": 4,
  "nbformat_minor": 0,
  "metadata": {
    "colab": {
      "provenance": [],
      "include_colab_link": true
    },
    "kernelspec": {
      "name": "python3",
      "display_name": "Python 3"
    },
    "language_info": {
      "name": "python"
    }
  },
  "cells": [
    {
      "cell_type": "markdown",
      "metadata": {
        "id": "view-in-github",
        "colab_type": "text"
      },
      "source": [
        "<a href=\"https://colab.research.google.com/github/OmarK920/Data-Science-Projects/blob/main/Spark_SQL.ipynb\" target=\"_parent\"><img src=\"https://colab.research.google.com/assets/colab-badge.svg\" alt=\"Open In Colab\"/></a>"
      ]
    },
    {
      "cell_type": "code",
      "execution_count": null,
      "metadata": {
        "id": "3c6CjOWNxILu",
        "colab": {
          "base_uri": "https://localhost:8080/"
        },
        "outputId": "530c76b7-8585-4e71-8193-dce22925e120"
      },
      "outputs": [
        {
          "output_type": "stream",
          "name": "stdout",
          "text": [
            "Looking in indexes: https://pypi.org/simple, https://us-python.pkg.dev/colab-wheels/public/simple/\n",
            "Collecting pyspark\n",
            "  Downloading pyspark-3.4.0.tar.gz (310.8 MB)\n",
            "\u001b[2K     \u001b[90m━━━━━━━━━━━━━━━━━━━━━━━━━━━━━━━━━━━━━━━\u001b[0m \u001b[32m310.8/310.8 MB\u001b[0m \u001b[31m2.0 MB/s\u001b[0m eta \u001b[36m0:00:00\u001b[0m\n",
            "\u001b[?25h  Preparing metadata (setup.py) ... \u001b[?25l\u001b[?25hdone\n",
            "Requirement already satisfied: py4j==0.10.9.7 in /usr/local/lib/python3.10/dist-packages (from pyspark) (0.10.9.7)\n",
            "Building wheels for collected packages: pyspark\n",
            "  Building wheel for pyspark (setup.py) ... \u001b[?25l\u001b[?25hdone\n",
            "  Created wheel for pyspark: filename=pyspark-3.4.0-py2.py3-none-any.whl size=311317130 sha256=ffc6d9fdf6907e6d10e039007895d9b7935fe28fdd03173ea4166552ebf1e697\n",
            "  Stored in directory: /root/.cache/pip/wheels/7b/1b/4b/3363a1d04368e7ff0d408e57ff57966fcdf00583774e761327\n",
            "Successfully built pyspark\n",
            "Installing collected packages: pyspark\n",
            "Successfully installed pyspark-3.4.0\n",
            "Looking in indexes: https://pypi.org/simple, https://us-python.pkg.dev/colab-wheels/public/simple/\n",
            "Collecting findspark\n",
            "  Downloading findspark-2.0.1-py2.py3-none-any.whl (4.4 kB)\n",
            "Installing collected packages: findspark\n",
            "Successfully installed findspark-2.0.1\n",
            "Looking in indexes: https://pypi.org/simple, https://us-python.pkg.dev/colab-wheels/public/simple/\n",
            "Collecting pyarrow==1.0.0\n",
            "  Downloading pyarrow-1.0.0.tar.gz (1.2 MB)\n",
            "\u001b[2K     \u001b[90m━━━━━━━━━━━━━━━━━━━━━━━━━━━━━━━━━━━━━━━━\u001b[0m \u001b[32m1.2/1.2 MB\u001b[0m \u001b[31m32.4 MB/s\u001b[0m eta \u001b[36m0:00:00\u001b[0m\n",
            "\u001b[?25h  \u001b[1;31merror\u001b[0m: \u001b[1msubprocess-exited-with-error\u001b[0m\n",
            "  \n",
            "  \u001b[31m×\u001b[0m \u001b[32mpip subprocess to install build dependencies\u001b[0m did not run successfully.\n",
            "  \u001b[31m│\u001b[0m exit code: \u001b[1;36m1\u001b[0m\n",
            "  \u001b[31m╰─>\u001b[0m See above for output.\n",
            "  \n",
            "  \u001b[1;35mnote\u001b[0m: This error originates from a subprocess, and is likely not a problem with pip.\n",
            "  Installing build dependencies ... \u001b[?25l\u001b[?25herror\n",
            "\u001b[1;31merror\u001b[0m: \u001b[1msubprocess-exited-with-error\u001b[0m\n",
            "\n",
            "\u001b[31m×\u001b[0m \u001b[32mpip subprocess to install build dependencies\u001b[0m did not run successfully.\n",
            "\u001b[31m│\u001b[0m exit code: \u001b[1;36m1\u001b[0m\n",
            "\u001b[31m╰─>\u001b[0m See above for output.\n",
            "\n",
            "\u001b[1;35mnote\u001b[0m: This error originates from a subprocess, and is likely not a problem with pip.\n",
            "Looking in indexes: https://pypi.org/simple, https://us-python.pkg.dev/colab-wheels/public/simple/\n",
            "Requirement already satisfied: pandas in /usr/local/lib/python3.10/dist-packages (1.5.3)\n",
            "Requirement already satisfied: python-dateutil>=2.8.1 in /usr/local/lib/python3.10/dist-packages (from pandas) (2.8.2)\n",
            "Requirement already satisfied: pytz>=2020.1 in /usr/local/lib/python3.10/dist-packages (from pandas) (2022.7.1)\n",
            "Requirement already satisfied: numpy>=1.21.0 in /usr/local/lib/python3.10/dist-packages (from pandas) (1.22.4)\n",
            "Requirement already satisfied: six>=1.5 in /usr/local/lib/python3.10/dist-packages (from python-dateutil>=2.8.1->pandas) (1.16.0)\n",
            "Looking in indexes: https://pypi.org/simple, https://us-python.pkg.dev/colab-wheels/public/simple/\n",
            "Collecting numpy==1.19.5\n",
            "  Downloading numpy-1.19.5.zip (7.3 MB)\n",
            "\u001b[2K     \u001b[90m━━━━━━━━━━━━━━━━━━━━━━━━━━━━━━━━━━━━━━━━\u001b[0m \u001b[32m7.3/7.3 MB\u001b[0m \u001b[31m85.0 MB/s\u001b[0m eta \u001b[36m0:00:00\u001b[0m\n",
            "\u001b[?25h  Installing build dependencies ... \u001b[?25l\u001b[?25hdone\n",
            "  Getting requirements to build wheel ... \u001b[?25l\u001b[?25hdone\n",
            "  Preparing metadata (pyproject.toml) ... \u001b[?25l\u001b[?25hdone\n",
            "Building wheels for collected packages: numpy\n",
            "  \u001b[1;31merror\u001b[0m: \u001b[1msubprocess-exited-with-error\u001b[0m\n",
            "  \n",
            "  \u001b[31m×\u001b[0m \u001b[32mBuilding wheel for numpy \u001b[0m\u001b[1;32m(\u001b[0m\u001b[32mpyproject.toml\u001b[0m\u001b[1;32m)\u001b[0m did not run successfully.\n",
            "  \u001b[31m│\u001b[0m exit code: \u001b[1;36m1\u001b[0m\n",
            "  \u001b[31m╰─>\u001b[0m See above for output.\n",
            "  \n",
            "  \u001b[1;35mnote\u001b[0m: This error originates from a subprocess, and is likely not a problem with pip.\n",
            "  Building wheel for numpy (pyproject.toml) ... \u001b[?25l\u001b[?25herror\n",
            "\u001b[31m  ERROR: Failed building wheel for numpy\u001b[0m\u001b[31m\n",
            "\u001b[0mFailed to build numpy\n",
            "\u001b[31mERROR: Could not build wheels for numpy, which is required to install pyproject.toml-based projects\u001b[0m\u001b[31m\n",
            "\u001b[0m"
          ]
        }
      ],
      "source": [
        "# Installing required packages\n",
        "!pip install pyspark\n",
        "!pip install findspark\n",
        "!pip install pyarrow==1.0.0\n",
        "!pip install pandas\n",
        "!pip install numpy==1.19.5"
      ]
    },
    {
      "cell_type": "code",
      "source": [
        "import findspark\n",
        "findspark.init()"
      ],
      "metadata": {
        "id": "G0SW-XTNw6Jx"
      },
      "execution_count": null,
      "outputs": []
    },
    {
      "cell_type": "code",
      "source": [
        "import pandas as pd\n",
        "from pyspark import SparkContext, SparkConf\n",
        "from pyspark.sql import SparkSession"
      ],
      "metadata": {
        "id": "0fjHAGzu13or"
      },
      "execution_count": null,
      "outputs": []
    },
    {
      "cell_type": "code",
      "source": [
        "# Creating a spark context class\n",
        "sc = SparkContext()\n",
        "\n",
        "# Creating a spark session\n",
        "spark = SparkSession \\\n",
        "    .builder \\\n",
        "    .appName(\"Python Spark DataFrames basic example\") \\\n",
        "    .config(\"spark.some.config.option\", \"some-value\") \\\n",
        "    .getOrCreate()"
      ],
      "metadata": {
        "id": "ie72JmLb152n"
      },
      "execution_count": null,
      "outputs": []
    },
    {
      "cell_type": "code",
      "source": [
        "spark"
      ],
      "metadata": {
        "colab": {
          "base_uri": "https://localhost:8080/",
          "height": 216
        },
        "id": "trdM5YU818Zv",
        "outputId": "d36b04ef-a36e-484f-efd4-e8e1f3518c3b"
      },
      "execution_count": null,
      "outputs": [
        {
          "output_type": "execute_result",
          "data": {
            "text/plain": [
              "<pyspark.sql.session.SparkSession at 0x7ff2034ab970>"
            ],
            "text/html": [
              "\n",
              "            <div>\n",
              "                <p><b>SparkSession - in-memory</b></p>\n",
              "                \n",
              "        <div>\n",
              "            <p><b>SparkContext</b></p>\n",
              "\n",
              "            <p><a href=\"http://7a130b66ecd6:4040\">Spark UI</a></p>\n",
              "\n",
              "            <dl>\n",
              "              <dt>Version</dt>\n",
              "                <dd><code>v3.4.0</code></dd>\n",
              "              <dt>Master</dt>\n",
              "                <dd><code>local[*]</code></dd>\n",
              "              <dt>AppName</dt>\n",
              "                <dd><code>pyspark-shell</code></dd>\n",
              "            </dl>\n",
              "        </div>\n",
              "        \n",
              "            </div>\n",
              "        "
            ]
          },
          "metadata": {},
          "execution_count": 5
        }
      ]
    },
    {
      "cell_type": "code",
      "source": [
        "# Read the file using `read_csv` function in pandas\n",
        "music_df = pd.read_csv('/content/music_streaming.csv')"
      ],
      "metadata": {
        "id": "e7dBFZ2a2BQT"
      },
      "execution_count": null,
      "outputs": []
    },
    {
      "cell_type": "code",
      "source": [
        "# Preview a few records\n",
        "music_df.head(5)"
      ],
      "metadata": {
        "colab": {
          "base_uri": "https://localhost:8080/",
          "height": 438
        },
        "id": "CS4dXha62N7O",
        "outputId": "20856a95-3628-4b30-b2b0-a6392728cfcc"
      },
      "execution_count": null,
      "outputs": [
        {
          "output_type": "execute_result",
          "data": {
            "text/plain": [
              "             Artist Name                             Track Name  Popularity  \\\n",
              "0             Bruno Mars  That's What I Like (feat. Gucci Mane)        60.0   \n",
              "1                 Boston                           Hitch a Ride        54.0   \n",
              "2          The Raincoats                     No Side to Fall In        35.0   \n",
              "3                   Deno             Lingo (feat. J.I & Chunkz)        66.0   \n",
              "4  Red Hot Chili Peppers      Nobody Weird Like Me - Remastered        53.0   \n",
              "\n",
              "   danceability  energy   key  loudness  mode  speechiness  acousticness  \\\n",
              "0         0.854   0.564   1.0    -4.964     1       0.0485      0.017100   \n",
              "1         0.382   0.814   3.0    -7.230     1       0.0406      0.001100   \n",
              "2         0.434   0.614   6.0    -8.334     1       0.0525      0.486000   \n",
              "3         0.853   0.597  10.0    -6.528     0       0.0555      0.021200   \n",
              "4         0.167   0.975   2.0    -4.279     1       0.2160      0.000169   \n",
              "\n",
              "   instrumentalness  liveness  valence    tempo  duration_in min/ms  \\\n",
              "0               NaN    0.0849   0.8990  134.071            234596.0   \n",
              "1          0.004010    0.1010   0.5690  116.454            251733.0   \n",
              "2          0.000196    0.3940   0.7870  147.681            109667.0   \n",
              "3               NaN    0.1220   0.5690  107.033            173968.0   \n",
              "4          0.016100    0.1720   0.0918  199.060            229960.0   \n",
              "\n",
              "   time_signature  Genre  \n",
              "0               4      5  \n",
              "1               4     10  \n",
              "2               4      6  \n",
              "3               4      5  \n",
              "4               4     10  "
            ],
            "text/html": [
              "\n",
              "  <div id=\"df-eacd60a2-aa9f-419c-8a71-53ee76f0a69f\">\n",
              "    <div class=\"colab-df-container\">\n",
              "      <div>\n",
              "<style scoped>\n",
              "    .dataframe tbody tr th:only-of-type {\n",
              "        vertical-align: middle;\n",
              "    }\n",
              "\n",
              "    .dataframe tbody tr th {\n",
              "        vertical-align: top;\n",
              "    }\n",
              "\n",
              "    .dataframe thead th {\n",
              "        text-align: right;\n",
              "    }\n",
              "</style>\n",
              "<table border=\"1\" class=\"dataframe\">\n",
              "  <thead>\n",
              "    <tr style=\"text-align: right;\">\n",
              "      <th></th>\n",
              "      <th>Artist Name</th>\n",
              "      <th>Track Name</th>\n",
              "      <th>Popularity</th>\n",
              "      <th>danceability</th>\n",
              "      <th>energy</th>\n",
              "      <th>key</th>\n",
              "      <th>loudness</th>\n",
              "      <th>mode</th>\n",
              "      <th>speechiness</th>\n",
              "      <th>acousticness</th>\n",
              "      <th>instrumentalness</th>\n",
              "      <th>liveness</th>\n",
              "      <th>valence</th>\n",
              "      <th>tempo</th>\n",
              "      <th>duration_in min/ms</th>\n",
              "      <th>time_signature</th>\n",
              "      <th>Genre</th>\n",
              "    </tr>\n",
              "  </thead>\n",
              "  <tbody>\n",
              "    <tr>\n",
              "      <th>0</th>\n",
              "      <td>Bruno Mars</td>\n",
              "      <td>That's What I Like (feat. Gucci Mane)</td>\n",
              "      <td>60.0</td>\n",
              "      <td>0.854</td>\n",
              "      <td>0.564</td>\n",
              "      <td>1.0</td>\n",
              "      <td>-4.964</td>\n",
              "      <td>1</td>\n",
              "      <td>0.0485</td>\n",
              "      <td>0.017100</td>\n",
              "      <td>NaN</td>\n",
              "      <td>0.0849</td>\n",
              "      <td>0.8990</td>\n",
              "      <td>134.071</td>\n",
              "      <td>234596.0</td>\n",
              "      <td>4</td>\n",
              "      <td>5</td>\n",
              "    </tr>\n",
              "    <tr>\n",
              "      <th>1</th>\n",
              "      <td>Boston</td>\n",
              "      <td>Hitch a Ride</td>\n",
              "      <td>54.0</td>\n",
              "      <td>0.382</td>\n",
              "      <td>0.814</td>\n",
              "      <td>3.0</td>\n",
              "      <td>-7.230</td>\n",
              "      <td>1</td>\n",
              "      <td>0.0406</td>\n",
              "      <td>0.001100</td>\n",
              "      <td>0.004010</td>\n",
              "      <td>0.1010</td>\n",
              "      <td>0.5690</td>\n",
              "      <td>116.454</td>\n",
              "      <td>251733.0</td>\n",
              "      <td>4</td>\n",
              "      <td>10</td>\n",
              "    </tr>\n",
              "    <tr>\n",
              "      <th>2</th>\n",
              "      <td>The Raincoats</td>\n",
              "      <td>No Side to Fall In</td>\n",
              "      <td>35.0</td>\n",
              "      <td>0.434</td>\n",
              "      <td>0.614</td>\n",
              "      <td>6.0</td>\n",
              "      <td>-8.334</td>\n",
              "      <td>1</td>\n",
              "      <td>0.0525</td>\n",
              "      <td>0.486000</td>\n",
              "      <td>0.000196</td>\n",
              "      <td>0.3940</td>\n",
              "      <td>0.7870</td>\n",
              "      <td>147.681</td>\n",
              "      <td>109667.0</td>\n",
              "      <td>4</td>\n",
              "      <td>6</td>\n",
              "    </tr>\n",
              "    <tr>\n",
              "      <th>3</th>\n",
              "      <td>Deno</td>\n",
              "      <td>Lingo (feat. J.I &amp; Chunkz)</td>\n",
              "      <td>66.0</td>\n",
              "      <td>0.853</td>\n",
              "      <td>0.597</td>\n",
              "      <td>10.0</td>\n",
              "      <td>-6.528</td>\n",
              "      <td>0</td>\n",
              "      <td>0.0555</td>\n",
              "      <td>0.021200</td>\n",
              "      <td>NaN</td>\n",
              "      <td>0.1220</td>\n",
              "      <td>0.5690</td>\n",
              "      <td>107.033</td>\n",
              "      <td>173968.0</td>\n",
              "      <td>4</td>\n",
              "      <td>5</td>\n",
              "    </tr>\n",
              "    <tr>\n",
              "      <th>4</th>\n",
              "      <td>Red Hot Chili Peppers</td>\n",
              "      <td>Nobody Weird Like Me - Remastered</td>\n",
              "      <td>53.0</td>\n",
              "      <td>0.167</td>\n",
              "      <td>0.975</td>\n",
              "      <td>2.0</td>\n",
              "      <td>-4.279</td>\n",
              "      <td>1</td>\n",
              "      <td>0.2160</td>\n",
              "      <td>0.000169</td>\n",
              "      <td>0.016100</td>\n",
              "      <td>0.1720</td>\n",
              "      <td>0.0918</td>\n",
              "      <td>199.060</td>\n",
              "      <td>229960.0</td>\n",
              "      <td>4</td>\n",
              "      <td>10</td>\n",
              "    </tr>\n",
              "  </tbody>\n",
              "</table>\n",
              "</div>\n",
              "      <button class=\"colab-df-convert\" onclick=\"convertToInteractive('df-eacd60a2-aa9f-419c-8a71-53ee76f0a69f')\"\n",
              "              title=\"Convert this dataframe to an interactive table.\"\n",
              "              style=\"display:none;\">\n",
              "        \n",
              "  <svg xmlns=\"http://www.w3.org/2000/svg\" height=\"24px\"viewBox=\"0 0 24 24\"\n",
              "       width=\"24px\">\n",
              "    <path d=\"M0 0h24v24H0V0z\" fill=\"none\"/>\n",
              "    <path d=\"M18.56 5.44l.94 2.06.94-2.06 2.06-.94-2.06-.94-.94-2.06-.94 2.06-2.06.94zm-11 1L8.5 8.5l.94-2.06 2.06-.94-2.06-.94L8.5 2.5l-.94 2.06-2.06.94zm10 10l.94 2.06.94-2.06 2.06-.94-2.06-.94-.94-2.06-.94 2.06-2.06.94z\"/><path d=\"M17.41 7.96l-1.37-1.37c-.4-.4-.92-.59-1.43-.59-.52 0-1.04.2-1.43.59L10.3 9.45l-7.72 7.72c-.78.78-.78 2.05 0 2.83L4 21.41c.39.39.9.59 1.41.59.51 0 1.02-.2 1.41-.59l7.78-7.78 2.81-2.81c.8-.78.8-2.07 0-2.86zM5.41 20L4 18.59l7.72-7.72 1.47 1.35L5.41 20z\"/>\n",
              "  </svg>\n",
              "      </button>\n",
              "      \n",
              "  <style>\n",
              "    .colab-df-container {\n",
              "      display:flex;\n",
              "      flex-wrap:wrap;\n",
              "      gap: 12px;\n",
              "    }\n",
              "\n",
              "    .colab-df-convert {\n",
              "      background-color: #E8F0FE;\n",
              "      border: none;\n",
              "      border-radius: 50%;\n",
              "      cursor: pointer;\n",
              "      display: none;\n",
              "      fill: #1967D2;\n",
              "      height: 32px;\n",
              "      padding: 0 0 0 0;\n",
              "      width: 32px;\n",
              "    }\n",
              "\n",
              "    .colab-df-convert:hover {\n",
              "      background-color: #E2EBFA;\n",
              "      box-shadow: 0px 1px 2px rgba(60, 64, 67, 0.3), 0px 1px 3px 1px rgba(60, 64, 67, 0.15);\n",
              "      fill: #174EA6;\n",
              "    }\n",
              "\n",
              "    [theme=dark] .colab-df-convert {\n",
              "      background-color: #3B4455;\n",
              "      fill: #D2E3FC;\n",
              "    }\n",
              "\n",
              "    [theme=dark] .colab-df-convert:hover {\n",
              "      background-color: #434B5C;\n",
              "      box-shadow: 0px 1px 3px 1px rgba(0, 0, 0, 0.15);\n",
              "      filter: drop-shadow(0px 1px 2px rgba(0, 0, 0, 0.3));\n",
              "      fill: #FFFFFF;\n",
              "    }\n",
              "  </style>\n",
              "\n",
              "      <script>\n",
              "        const buttonEl =\n",
              "          document.querySelector('#df-eacd60a2-aa9f-419c-8a71-53ee76f0a69f button.colab-df-convert');\n",
              "        buttonEl.style.display =\n",
              "          google.colab.kernel.accessAllowed ? 'block' : 'none';\n",
              "\n",
              "        async function convertToInteractive(key) {\n",
              "          const element = document.querySelector('#df-eacd60a2-aa9f-419c-8a71-53ee76f0a69f');\n",
              "          const dataTable =\n",
              "            await google.colab.kernel.invokeFunction('convertToInteractive',\n",
              "                                                     [key], {});\n",
              "          if (!dataTable) return;\n",
              "\n",
              "          const docLinkHtml = 'Like what you see? Visit the ' +\n",
              "            '<a target=\"_blank\" href=https://colab.research.google.com/notebooks/data_table.ipynb>data table notebook</a>'\n",
              "            + ' to learn more about interactive tables.';\n",
              "          element.innerHTML = '';\n",
              "          dataTable['output_type'] = 'display_data';\n",
              "          await google.colab.output.renderOutput(dataTable, element);\n",
              "          const docLink = document.createElement('div');\n",
              "          docLink.innerHTML = docLinkHtml;\n",
              "          element.appendChild(docLink);\n",
              "        }\n",
              "      </script>\n",
              "    </div>\n",
              "  </div>\n",
              "  "
            ]
          },
          "metadata": {},
          "execution_count": 55
        }
      ]
    },
    {
      "cell_type": "code",
      "source": [
        "music_df.shape\n"
      ],
      "metadata": {
        "colab": {
          "base_uri": "https://localhost:8080/"
        },
        "id": "jvbyf90b5CrH",
        "outputId": "f8fc5e71-e720-4082-83c3-440748746565"
      },
      "execution_count": null,
      "outputs": [
        {
          "output_type": "execute_result",
          "data": {
            "text/plain": [
              "(15517, 17)"
            ]
          },
          "metadata": {},
          "execution_count": 56
        }
      ]
    },
    {
      "cell_type": "code",
      "source": [
        "from scipy.stats import zscore\n",
        "import numpy as np\n",
        "# Define the threshold for outliers (e.g., 3 standard deviations)\n",
        "threshold = 3\n",
        "\n",
        "# Calculate z-scores for each numeric column\n",
        "z_scores = music_df.select_dtypes(include=[np.number]).apply(zscore)\n",
        "\n",
        "# Identify outliers based on the threshold\n",
        "outliers = music_df[(np.abs(z_scores) > threshold).any(axis=1)]\n",
        "\n",
        "# Remove the outliers\n",
        "music_df = music_df.drop(outliers.index)"
      ],
      "metadata": {
        "id": "CnZdHRUW5VFz"
      },
      "execution_count": null,
      "outputs": []
    },
    {
      "cell_type": "code",
      "source": [
        "music_df.shape"
      ],
      "metadata": {
        "colab": {
          "base_uri": "https://localhost:8080/"
        },
        "id": "WT-2rTze5iIm",
        "outputId": "2df7fd4d-f90e-4cf9-c3b8-c367a3406936"
      },
      "execution_count": null,
      "outputs": [
        {
          "output_type": "execute_result",
          "data": {
            "text/plain": [
              "(14230, 17)"
            ]
          },
          "metadata": {},
          "execution_count": 58
        }
      ]
    },
    {
      "cell_type": "code",
      "source": [
        "# Count the number of missing values in each column\n",
        "missing_values = music_df.isnull().sum()\n",
        "\n",
        "# Display the number of missing values\n",
        "print(missing_values)\n"
      ],
      "metadata": {
        "colab": {
          "base_uri": "https://localhost:8080/"
        },
        "id": "DE3VASkO2iL8",
        "outputId": "2ae60899-e54a-4cf2-b410-87c9c6bb3412"
      },
      "execution_count": null,
      "outputs": [
        {
          "output_type": "stream",
          "name": "stdout",
          "text": [
            "Artist Name              0\n",
            "Track Name               0\n",
            "Popularity             361\n",
            "danceability             0\n",
            "energy                   0\n",
            "key                   1582\n",
            "loudness                 0\n",
            "mode                     0\n",
            "speechiness              0\n",
            "acousticness             0\n",
            "instrumentalness      3224\n",
            "liveness                 0\n",
            "valence                  0\n",
            "tempo                    0\n",
            "duration_in min/ms       0\n",
            "time_signature           0\n",
            "Genre                    0\n",
            "dtype: int64\n"
          ]
        }
      ]
    },
    {
      "cell_type": "code",
      "source": [
        "import pandas as pd\n",
        "music_df = music_df.drop_duplicates()\n"
      ],
      "metadata": {
        "id": "FtDxPRw75BnX"
      },
      "execution_count": null,
      "outputs": []
    },
    {
      "cell_type": "code",
      "source": [
        "# Count the number of missing values in each column\n",
        "missing_values = music_df.isnull().sum()\n",
        "\n",
        "# Display the number of missing values\n",
        "print(missing_values)"
      ],
      "metadata": {
        "colab": {
          "base_uri": "https://localhost:8080/"
        },
        "id": "xsJQkHDU6QOl",
        "outputId": "70c3201a-bb55-4fe6-aa96-1f36c5cf4352"
      },
      "execution_count": null,
      "outputs": [
        {
          "output_type": "stream",
          "name": "stdout",
          "text": [
            "Artist Name              0\n",
            "Track Name               0\n",
            "Popularity             361\n",
            "danceability             0\n",
            "energy                   0\n",
            "key                   1582\n",
            "loudness                 0\n",
            "mode                     0\n",
            "speechiness              0\n",
            "acousticness             0\n",
            "instrumentalness      3224\n",
            "liveness                 0\n",
            "valence                  0\n",
            "tempo                    0\n",
            "duration_in min/ms       0\n",
            "time_signature           0\n",
            "Genre                    0\n",
            "dtype: int64\n"
          ]
        }
      ]
    },
    {
      "cell_type": "code",
      "source": [
        "music_df = music_df.dropna(subset=['Popularity'])"
      ],
      "metadata": {
        "id": "0BcwGEGp7j-r"
      },
      "execution_count": null,
      "outputs": []
    },
    {
      "cell_type": "code",
      "source": [
        "# Count the number of missing values in each column\n",
        "missing_values = music_df.isnull().sum()\n",
        "\n",
        "# Display the number of missing values\n",
        "print(missing_values)"
      ],
      "metadata": {
        "colab": {
          "base_uri": "https://localhost:8080/"
        },
        "id": "wHJRqIMw7sb5",
        "outputId": "261710f5-28a8-46da-cd89-e1e93d42fcf6"
      },
      "execution_count": null,
      "outputs": [
        {
          "output_type": "stream",
          "name": "stdout",
          "text": [
            "Artist Name              0\n",
            "Track Name               0\n",
            "Popularity               0\n",
            "danceability             0\n",
            "energy                   0\n",
            "key                   1534\n",
            "loudness                 0\n",
            "mode                     0\n",
            "speechiness              0\n",
            "acousticness             0\n",
            "instrumentalness      3126\n",
            "liveness                 0\n",
            "valence                  0\n",
            "tempo                    0\n",
            "duration_in min/ms       0\n",
            "time_signature           0\n",
            "Genre                    0\n",
            "dtype: int64\n"
          ]
        }
      ]
    },
    {
      "cell_type": "code",
      "source": [
        "mode_key = music_df['key'].mode().iloc[0]\n",
        "mean_instrumentalness = music_df['instrumentalness'].mean()\n",
        "\n",
        "\n",
        "music_df = music_df.fillna({'key': mode_key, 'instrumentalness': mean_instrumentalness})\n"
      ],
      "metadata": {
        "id": "OU7pJhVq7tyV"
      },
      "execution_count": null,
      "outputs": []
    },
    {
      "cell_type": "code",
      "source": [
        "# Count the number of missing values in each column\n",
        "missing_values = music_df.isnull().sum()\n",
        "\n",
        "# Display the number of missing values\n",
        "print(missing_values)"
      ],
      "metadata": {
        "colab": {
          "base_uri": "https://localhost:8080/"
        },
        "id": "3wPvKYN08rbO",
        "outputId": "fcbca913-b0bf-47b5-d596-17e7cd9a8ce7"
      },
      "execution_count": null,
      "outputs": [
        {
          "output_type": "stream",
          "name": "stdout",
          "text": [
            "Artist Name           0\n",
            "Track Name            0\n",
            "Popularity            0\n",
            "danceability          0\n",
            "energy                0\n",
            "key                   0\n",
            "loudness              0\n",
            "mode                  0\n",
            "speechiness           0\n",
            "acousticness          0\n",
            "instrumentalness      0\n",
            "liveness              0\n",
            "valence               0\n",
            "tempo                 0\n",
            "duration_in min/ms    0\n",
            "time_signature        0\n",
            "Genre                 0\n",
            "dtype: int64\n"
          ]
        }
      ]
    },
    {
      "cell_type": "code",
      "source": [
        "music_df.head(5)"
      ],
      "metadata": {
        "colab": {
          "base_uri": "https://localhost:8080/",
          "height": 438
        },
        "id": "Lrbcf6Oo8sZ1",
        "outputId": "129d73e7-b59d-4064-d2f8-9f292319240e"
      },
      "execution_count": null,
      "outputs": [
        {
          "output_type": "execute_result",
          "data": {
            "text/plain": [
              "             Artist Name                             Track Name  Popularity  \\\n",
              "0             Bruno Mars  That's What I Like (feat. Gucci Mane)        60.0   \n",
              "1                 Boston                           Hitch a Ride        54.0   \n",
              "2          The Raincoats                     No Side to Fall In        35.0   \n",
              "3                   Deno             Lingo (feat. J.I & Chunkz)        66.0   \n",
              "4  Red Hot Chili Peppers      Nobody Weird Like Me - Remastered        53.0   \n",
              "\n",
              "   danceability  energy   key  loudness  mode  speechiness  acousticness  \\\n",
              "0         0.854   0.564   1.0    -4.964     1       0.0485      0.017100   \n",
              "1         0.382   0.814   3.0    -7.230     1       0.0406      0.001100   \n",
              "2         0.434   0.614   6.0    -8.334     1       0.0525      0.486000   \n",
              "3         0.853   0.597  10.0    -6.528     0       0.0555      0.021200   \n",
              "4         0.167   0.975   2.0    -4.279     1       0.2160      0.000169   \n",
              "\n",
              "   instrumentalness  liveness  valence    tempo  duration_in min/ms  \\\n",
              "0          0.165108    0.0849   0.8990  134.071            234596.0   \n",
              "1          0.004010    0.1010   0.5690  116.454            251733.0   \n",
              "2          0.000196    0.3940   0.7870  147.681            109667.0   \n",
              "3          0.165108    0.1220   0.5690  107.033            173968.0   \n",
              "4          0.016100    0.1720   0.0918  199.060            229960.0   \n",
              "\n",
              "   time_signature  Genre  \n",
              "0               4      5  \n",
              "1               4     10  \n",
              "2               4      6  \n",
              "3               4      5  \n",
              "4               4     10  "
            ],
            "text/html": [
              "\n",
              "  <div id=\"df-38c1329d-94ae-4aca-9720-4b6ac6b2bf37\">\n",
              "    <div class=\"colab-df-container\">\n",
              "      <div>\n",
              "<style scoped>\n",
              "    .dataframe tbody tr th:only-of-type {\n",
              "        vertical-align: middle;\n",
              "    }\n",
              "\n",
              "    .dataframe tbody tr th {\n",
              "        vertical-align: top;\n",
              "    }\n",
              "\n",
              "    .dataframe thead th {\n",
              "        text-align: right;\n",
              "    }\n",
              "</style>\n",
              "<table border=\"1\" class=\"dataframe\">\n",
              "  <thead>\n",
              "    <tr style=\"text-align: right;\">\n",
              "      <th></th>\n",
              "      <th>Artist Name</th>\n",
              "      <th>Track Name</th>\n",
              "      <th>Popularity</th>\n",
              "      <th>danceability</th>\n",
              "      <th>energy</th>\n",
              "      <th>key</th>\n",
              "      <th>loudness</th>\n",
              "      <th>mode</th>\n",
              "      <th>speechiness</th>\n",
              "      <th>acousticness</th>\n",
              "      <th>instrumentalness</th>\n",
              "      <th>liveness</th>\n",
              "      <th>valence</th>\n",
              "      <th>tempo</th>\n",
              "      <th>duration_in min/ms</th>\n",
              "      <th>time_signature</th>\n",
              "      <th>Genre</th>\n",
              "    </tr>\n",
              "  </thead>\n",
              "  <tbody>\n",
              "    <tr>\n",
              "      <th>0</th>\n",
              "      <td>Bruno Mars</td>\n",
              "      <td>That's What I Like (feat. Gucci Mane)</td>\n",
              "      <td>60.0</td>\n",
              "      <td>0.854</td>\n",
              "      <td>0.564</td>\n",
              "      <td>1.0</td>\n",
              "      <td>-4.964</td>\n",
              "      <td>1</td>\n",
              "      <td>0.0485</td>\n",
              "      <td>0.017100</td>\n",
              "      <td>0.165108</td>\n",
              "      <td>0.0849</td>\n",
              "      <td>0.8990</td>\n",
              "      <td>134.071</td>\n",
              "      <td>234596.0</td>\n",
              "      <td>4</td>\n",
              "      <td>5</td>\n",
              "    </tr>\n",
              "    <tr>\n",
              "      <th>1</th>\n",
              "      <td>Boston</td>\n",
              "      <td>Hitch a Ride</td>\n",
              "      <td>54.0</td>\n",
              "      <td>0.382</td>\n",
              "      <td>0.814</td>\n",
              "      <td>3.0</td>\n",
              "      <td>-7.230</td>\n",
              "      <td>1</td>\n",
              "      <td>0.0406</td>\n",
              "      <td>0.001100</td>\n",
              "      <td>0.004010</td>\n",
              "      <td>0.1010</td>\n",
              "      <td>0.5690</td>\n",
              "      <td>116.454</td>\n",
              "      <td>251733.0</td>\n",
              "      <td>4</td>\n",
              "      <td>10</td>\n",
              "    </tr>\n",
              "    <tr>\n",
              "      <th>2</th>\n",
              "      <td>The Raincoats</td>\n",
              "      <td>No Side to Fall In</td>\n",
              "      <td>35.0</td>\n",
              "      <td>0.434</td>\n",
              "      <td>0.614</td>\n",
              "      <td>6.0</td>\n",
              "      <td>-8.334</td>\n",
              "      <td>1</td>\n",
              "      <td>0.0525</td>\n",
              "      <td>0.486000</td>\n",
              "      <td>0.000196</td>\n",
              "      <td>0.3940</td>\n",
              "      <td>0.7870</td>\n",
              "      <td>147.681</td>\n",
              "      <td>109667.0</td>\n",
              "      <td>4</td>\n",
              "      <td>6</td>\n",
              "    </tr>\n",
              "    <tr>\n",
              "      <th>3</th>\n",
              "      <td>Deno</td>\n",
              "      <td>Lingo (feat. J.I &amp; Chunkz)</td>\n",
              "      <td>66.0</td>\n",
              "      <td>0.853</td>\n",
              "      <td>0.597</td>\n",
              "      <td>10.0</td>\n",
              "      <td>-6.528</td>\n",
              "      <td>0</td>\n",
              "      <td>0.0555</td>\n",
              "      <td>0.021200</td>\n",
              "      <td>0.165108</td>\n",
              "      <td>0.1220</td>\n",
              "      <td>0.5690</td>\n",
              "      <td>107.033</td>\n",
              "      <td>173968.0</td>\n",
              "      <td>4</td>\n",
              "      <td>5</td>\n",
              "    </tr>\n",
              "    <tr>\n",
              "      <th>4</th>\n",
              "      <td>Red Hot Chili Peppers</td>\n",
              "      <td>Nobody Weird Like Me - Remastered</td>\n",
              "      <td>53.0</td>\n",
              "      <td>0.167</td>\n",
              "      <td>0.975</td>\n",
              "      <td>2.0</td>\n",
              "      <td>-4.279</td>\n",
              "      <td>1</td>\n",
              "      <td>0.2160</td>\n",
              "      <td>0.000169</td>\n",
              "      <td>0.016100</td>\n",
              "      <td>0.1720</td>\n",
              "      <td>0.0918</td>\n",
              "      <td>199.060</td>\n",
              "      <td>229960.0</td>\n",
              "      <td>4</td>\n",
              "      <td>10</td>\n",
              "    </tr>\n",
              "  </tbody>\n",
              "</table>\n",
              "</div>\n",
              "      <button class=\"colab-df-convert\" onclick=\"convertToInteractive('df-38c1329d-94ae-4aca-9720-4b6ac6b2bf37')\"\n",
              "              title=\"Convert this dataframe to an interactive table.\"\n",
              "              style=\"display:none;\">\n",
              "        \n",
              "  <svg xmlns=\"http://www.w3.org/2000/svg\" height=\"24px\"viewBox=\"0 0 24 24\"\n",
              "       width=\"24px\">\n",
              "    <path d=\"M0 0h24v24H0V0z\" fill=\"none\"/>\n",
              "    <path d=\"M18.56 5.44l.94 2.06.94-2.06 2.06-.94-2.06-.94-.94-2.06-.94 2.06-2.06.94zm-11 1L8.5 8.5l.94-2.06 2.06-.94-2.06-.94L8.5 2.5l-.94 2.06-2.06.94zm10 10l.94 2.06.94-2.06 2.06-.94-2.06-.94-.94-2.06-.94 2.06-2.06.94z\"/><path d=\"M17.41 7.96l-1.37-1.37c-.4-.4-.92-.59-1.43-.59-.52 0-1.04.2-1.43.59L10.3 9.45l-7.72 7.72c-.78.78-.78 2.05 0 2.83L4 21.41c.39.39.9.59 1.41.59.51 0 1.02-.2 1.41-.59l7.78-7.78 2.81-2.81c.8-.78.8-2.07 0-2.86zM5.41 20L4 18.59l7.72-7.72 1.47 1.35L5.41 20z\"/>\n",
              "  </svg>\n",
              "      </button>\n",
              "      \n",
              "  <style>\n",
              "    .colab-df-container {\n",
              "      display:flex;\n",
              "      flex-wrap:wrap;\n",
              "      gap: 12px;\n",
              "    }\n",
              "\n",
              "    .colab-df-convert {\n",
              "      background-color: #E8F0FE;\n",
              "      border: none;\n",
              "      border-radius: 50%;\n",
              "      cursor: pointer;\n",
              "      display: none;\n",
              "      fill: #1967D2;\n",
              "      height: 32px;\n",
              "      padding: 0 0 0 0;\n",
              "      width: 32px;\n",
              "    }\n",
              "\n",
              "    .colab-df-convert:hover {\n",
              "      background-color: #E2EBFA;\n",
              "      box-shadow: 0px 1px 2px rgba(60, 64, 67, 0.3), 0px 1px 3px 1px rgba(60, 64, 67, 0.15);\n",
              "      fill: #174EA6;\n",
              "    }\n",
              "\n",
              "    [theme=dark] .colab-df-convert {\n",
              "      background-color: #3B4455;\n",
              "      fill: #D2E3FC;\n",
              "    }\n",
              "\n",
              "    [theme=dark] .colab-df-convert:hover {\n",
              "      background-color: #434B5C;\n",
              "      box-shadow: 0px 1px 3px 1px rgba(0, 0, 0, 0.15);\n",
              "      filter: drop-shadow(0px 1px 2px rgba(0, 0, 0, 0.3));\n",
              "      fill: #FFFFFF;\n",
              "    }\n",
              "  </style>\n",
              "\n",
              "      <script>\n",
              "        const buttonEl =\n",
              "          document.querySelector('#df-38c1329d-94ae-4aca-9720-4b6ac6b2bf37 button.colab-df-convert');\n",
              "        buttonEl.style.display =\n",
              "          google.colab.kernel.accessAllowed ? 'block' : 'none';\n",
              "\n",
              "        async function convertToInteractive(key) {\n",
              "          const element = document.querySelector('#df-38c1329d-94ae-4aca-9720-4b6ac6b2bf37');\n",
              "          const dataTable =\n",
              "            await google.colab.kernel.invokeFunction('convertToInteractive',\n",
              "                                                     [key], {});\n",
              "          if (!dataTable) return;\n",
              "\n",
              "          const docLinkHtml = 'Like what you see? Visit the ' +\n",
              "            '<a target=\"_blank\" href=https://colab.research.google.com/notebooks/data_table.ipynb>data table notebook</a>'\n",
              "            + ' to learn more about interactive tables.';\n",
              "          element.innerHTML = '';\n",
              "          dataTable['output_type'] = 'display_data';\n",
              "          await google.colab.output.renderOutput(dataTable, element);\n",
              "          const docLink = document.createElement('div');\n",
              "          docLink.innerHTML = docLinkHtml;\n",
              "          element.appendChild(docLink);\n",
              "        }\n",
              "      </script>\n",
              "    </div>\n",
              "  </div>\n",
              "  "
            ]
          },
          "metadata": {},
          "execution_count": 67
        }
      ]
    },
    {
      "cell_type": "code",
      "source": [
        "# Convert 'duration_in min/ms' column from milliseconds to minutes\n",
        "music_df['duration_in_min'] = music_df['duration_in min/ms'] / 60000\n",
        "\n",
        "# Drop the original 'duration_in min/ms' column\n",
        "music_df.drop('duration_in min/ms', axis=1, inplace=True)\n",
        "\n",
        "# Display the result\n",
        "music_df.head(5)\n"
      ],
      "metadata": {
        "colab": {
          "base_uri": "https://localhost:8080/",
          "height": 438
        },
        "id": "ANvQybHUAwIH",
        "outputId": "40a8ab88-5a36-4c7b-abf1-e19748c7b87e"
      },
      "execution_count": null,
      "outputs": [
        {
          "output_type": "execute_result",
          "data": {
            "text/plain": [
              "             Artist Name                             Track Name  Popularity  \\\n",
              "0             Bruno Mars  That's What I Like (feat. Gucci Mane)        60.0   \n",
              "1                 Boston                           Hitch a Ride        54.0   \n",
              "2          The Raincoats                     No Side to Fall In        35.0   \n",
              "3                   Deno             Lingo (feat. J.I & Chunkz)        66.0   \n",
              "4  Red Hot Chili Peppers      Nobody Weird Like Me - Remastered        53.0   \n",
              "\n",
              "   danceability  energy   key  loudness  mode  speechiness  acousticness  \\\n",
              "0         0.854   0.564   1.0    -4.964     1       0.0485      0.017100   \n",
              "1         0.382   0.814   3.0    -7.230     1       0.0406      0.001100   \n",
              "2         0.434   0.614   6.0    -8.334     1       0.0525      0.486000   \n",
              "3         0.853   0.597  10.0    -6.528     0       0.0555      0.021200   \n",
              "4         0.167   0.975   2.0    -4.279     1       0.2160      0.000169   \n",
              "\n",
              "   instrumentalness  liveness  valence    tempo  time_signature  Genre  \\\n",
              "0          0.165108    0.0849   0.8990  134.071               4      5   \n",
              "1          0.004010    0.1010   0.5690  116.454               4     10   \n",
              "2          0.000196    0.3940   0.7870  147.681               4      6   \n",
              "3          0.165108    0.1220   0.5690  107.033               4      5   \n",
              "4          0.016100    0.1720   0.0918  199.060               4     10   \n",
              "\n",
              "   duration_in_min  \n",
              "0         3.909933  \n",
              "1         4.195550  \n",
              "2         1.827783  \n",
              "3         2.899467  \n",
              "4         3.832667  "
            ],
            "text/html": [
              "\n",
              "  <div id=\"df-eb02509c-aa7c-4dcd-bbc9-16fd4dcfc557\">\n",
              "    <div class=\"colab-df-container\">\n",
              "      <div>\n",
              "<style scoped>\n",
              "    .dataframe tbody tr th:only-of-type {\n",
              "        vertical-align: middle;\n",
              "    }\n",
              "\n",
              "    .dataframe tbody tr th {\n",
              "        vertical-align: top;\n",
              "    }\n",
              "\n",
              "    .dataframe thead th {\n",
              "        text-align: right;\n",
              "    }\n",
              "</style>\n",
              "<table border=\"1\" class=\"dataframe\">\n",
              "  <thead>\n",
              "    <tr style=\"text-align: right;\">\n",
              "      <th></th>\n",
              "      <th>Artist Name</th>\n",
              "      <th>Track Name</th>\n",
              "      <th>Popularity</th>\n",
              "      <th>danceability</th>\n",
              "      <th>energy</th>\n",
              "      <th>key</th>\n",
              "      <th>loudness</th>\n",
              "      <th>mode</th>\n",
              "      <th>speechiness</th>\n",
              "      <th>acousticness</th>\n",
              "      <th>instrumentalness</th>\n",
              "      <th>liveness</th>\n",
              "      <th>valence</th>\n",
              "      <th>tempo</th>\n",
              "      <th>time_signature</th>\n",
              "      <th>Genre</th>\n",
              "      <th>duration_in_min</th>\n",
              "    </tr>\n",
              "  </thead>\n",
              "  <tbody>\n",
              "    <tr>\n",
              "      <th>0</th>\n",
              "      <td>Bruno Mars</td>\n",
              "      <td>That's What I Like (feat. Gucci Mane)</td>\n",
              "      <td>60.0</td>\n",
              "      <td>0.854</td>\n",
              "      <td>0.564</td>\n",
              "      <td>1.0</td>\n",
              "      <td>-4.964</td>\n",
              "      <td>1</td>\n",
              "      <td>0.0485</td>\n",
              "      <td>0.017100</td>\n",
              "      <td>0.165108</td>\n",
              "      <td>0.0849</td>\n",
              "      <td>0.8990</td>\n",
              "      <td>134.071</td>\n",
              "      <td>4</td>\n",
              "      <td>5</td>\n",
              "      <td>3.909933</td>\n",
              "    </tr>\n",
              "    <tr>\n",
              "      <th>1</th>\n",
              "      <td>Boston</td>\n",
              "      <td>Hitch a Ride</td>\n",
              "      <td>54.0</td>\n",
              "      <td>0.382</td>\n",
              "      <td>0.814</td>\n",
              "      <td>3.0</td>\n",
              "      <td>-7.230</td>\n",
              "      <td>1</td>\n",
              "      <td>0.0406</td>\n",
              "      <td>0.001100</td>\n",
              "      <td>0.004010</td>\n",
              "      <td>0.1010</td>\n",
              "      <td>0.5690</td>\n",
              "      <td>116.454</td>\n",
              "      <td>4</td>\n",
              "      <td>10</td>\n",
              "      <td>4.195550</td>\n",
              "    </tr>\n",
              "    <tr>\n",
              "      <th>2</th>\n",
              "      <td>The Raincoats</td>\n",
              "      <td>No Side to Fall In</td>\n",
              "      <td>35.0</td>\n",
              "      <td>0.434</td>\n",
              "      <td>0.614</td>\n",
              "      <td>6.0</td>\n",
              "      <td>-8.334</td>\n",
              "      <td>1</td>\n",
              "      <td>0.0525</td>\n",
              "      <td>0.486000</td>\n",
              "      <td>0.000196</td>\n",
              "      <td>0.3940</td>\n",
              "      <td>0.7870</td>\n",
              "      <td>147.681</td>\n",
              "      <td>4</td>\n",
              "      <td>6</td>\n",
              "      <td>1.827783</td>\n",
              "    </tr>\n",
              "    <tr>\n",
              "      <th>3</th>\n",
              "      <td>Deno</td>\n",
              "      <td>Lingo (feat. J.I &amp; Chunkz)</td>\n",
              "      <td>66.0</td>\n",
              "      <td>0.853</td>\n",
              "      <td>0.597</td>\n",
              "      <td>10.0</td>\n",
              "      <td>-6.528</td>\n",
              "      <td>0</td>\n",
              "      <td>0.0555</td>\n",
              "      <td>0.021200</td>\n",
              "      <td>0.165108</td>\n",
              "      <td>0.1220</td>\n",
              "      <td>0.5690</td>\n",
              "      <td>107.033</td>\n",
              "      <td>4</td>\n",
              "      <td>5</td>\n",
              "      <td>2.899467</td>\n",
              "    </tr>\n",
              "    <tr>\n",
              "      <th>4</th>\n",
              "      <td>Red Hot Chili Peppers</td>\n",
              "      <td>Nobody Weird Like Me - Remastered</td>\n",
              "      <td>53.0</td>\n",
              "      <td>0.167</td>\n",
              "      <td>0.975</td>\n",
              "      <td>2.0</td>\n",
              "      <td>-4.279</td>\n",
              "      <td>1</td>\n",
              "      <td>0.2160</td>\n",
              "      <td>0.000169</td>\n",
              "      <td>0.016100</td>\n",
              "      <td>0.1720</td>\n",
              "      <td>0.0918</td>\n",
              "      <td>199.060</td>\n",
              "      <td>4</td>\n",
              "      <td>10</td>\n",
              "      <td>3.832667</td>\n",
              "    </tr>\n",
              "  </tbody>\n",
              "</table>\n",
              "</div>\n",
              "      <button class=\"colab-df-convert\" onclick=\"convertToInteractive('df-eb02509c-aa7c-4dcd-bbc9-16fd4dcfc557')\"\n",
              "              title=\"Convert this dataframe to an interactive table.\"\n",
              "              style=\"display:none;\">\n",
              "        \n",
              "  <svg xmlns=\"http://www.w3.org/2000/svg\" height=\"24px\"viewBox=\"0 0 24 24\"\n",
              "       width=\"24px\">\n",
              "    <path d=\"M0 0h24v24H0V0z\" fill=\"none\"/>\n",
              "    <path d=\"M18.56 5.44l.94 2.06.94-2.06 2.06-.94-2.06-.94-.94-2.06-.94 2.06-2.06.94zm-11 1L8.5 8.5l.94-2.06 2.06-.94-2.06-.94L8.5 2.5l-.94 2.06-2.06.94zm10 10l.94 2.06.94-2.06 2.06-.94-2.06-.94-.94-2.06-.94 2.06-2.06.94z\"/><path d=\"M17.41 7.96l-1.37-1.37c-.4-.4-.92-.59-1.43-.59-.52 0-1.04.2-1.43.59L10.3 9.45l-7.72 7.72c-.78.78-.78 2.05 0 2.83L4 21.41c.39.39.9.59 1.41.59.51 0 1.02-.2 1.41-.59l7.78-7.78 2.81-2.81c.8-.78.8-2.07 0-2.86zM5.41 20L4 18.59l7.72-7.72 1.47 1.35L5.41 20z\"/>\n",
              "  </svg>\n",
              "      </button>\n",
              "      \n",
              "  <style>\n",
              "    .colab-df-container {\n",
              "      display:flex;\n",
              "      flex-wrap:wrap;\n",
              "      gap: 12px;\n",
              "    }\n",
              "\n",
              "    .colab-df-convert {\n",
              "      background-color: #E8F0FE;\n",
              "      border: none;\n",
              "      border-radius: 50%;\n",
              "      cursor: pointer;\n",
              "      display: none;\n",
              "      fill: #1967D2;\n",
              "      height: 32px;\n",
              "      padding: 0 0 0 0;\n",
              "      width: 32px;\n",
              "    }\n",
              "\n",
              "    .colab-df-convert:hover {\n",
              "      background-color: #E2EBFA;\n",
              "      box-shadow: 0px 1px 2px rgba(60, 64, 67, 0.3), 0px 1px 3px 1px rgba(60, 64, 67, 0.15);\n",
              "      fill: #174EA6;\n",
              "    }\n",
              "\n",
              "    [theme=dark] .colab-df-convert {\n",
              "      background-color: #3B4455;\n",
              "      fill: #D2E3FC;\n",
              "    }\n",
              "\n",
              "    [theme=dark] .colab-df-convert:hover {\n",
              "      background-color: #434B5C;\n",
              "      box-shadow: 0px 1px 3px 1px rgba(0, 0, 0, 0.15);\n",
              "      filter: drop-shadow(0px 1px 2px rgba(0, 0, 0, 0.3));\n",
              "      fill: #FFFFFF;\n",
              "    }\n",
              "  </style>\n",
              "\n",
              "      <script>\n",
              "        const buttonEl =\n",
              "          document.querySelector('#df-eb02509c-aa7c-4dcd-bbc9-16fd4dcfc557 button.colab-df-convert');\n",
              "        buttonEl.style.display =\n",
              "          google.colab.kernel.accessAllowed ? 'block' : 'none';\n",
              "\n",
              "        async function convertToInteractive(key) {\n",
              "          const element = document.querySelector('#df-eb02509c-aa7c-4dcd-bbc9-16fd4dcfc557');\n",
              "          const dataTable =\n",
              "            await google.colab.kernel.invokeFunction('convertToInteractive',\n",
              "                                                     [key], {});\n",
              "          if (!dataTable) return;\n",
              "\n",
              "          const docLinkHtml = 'Like what you see? Visit the ' +\n",
              "            '<a target=\"_blank\" href=https://colab.research.google.com/notebooks/data_table.ipynb>data table notebook</a>'\n",
              "            + ' to learn more about interactive tables.';\n",
              "          element.innerHTML = '';\n",
              "          dataTable['output_type'] = 'display_data';\n",
              "          await google.colab.output.renderOutput(dataTable, element);\n",
              "          const docLink = document.createElement('div');\n",
              "          docLink.innerHTML = docLinkHtml;\n",
              "          element.appendChild(docLink);\n",
              "        }\n",
              "      </script>\n",
              "    </div>\n",
              "  </div>\n",
              "  "
            ]
          },
          "metadata": {},
          "execution_count": 69
        }
      ]
    },
    {
      "cell_type": "code",
      "source": [
        "sdf = spark.createDataFrame(music_df)"
      ],
      "metadata": {
        "id": "c82ZPYzy9JsJ"
      },
      "execution_count": null,
      "outputs": []
    },
    {
      "cell_type": "code",
      "source": [
        "sdf.printSchema()"
      ],
      "metadata": {
        "colab": {
          "base_uri": "https://localhost:8080/"
        },
        "id": "_HrCqhZ99bYe",
        "outputId": "501b11af-124e-4821-a63a-66ed71b121fa"
      },
      "execution_count": null,
      "outputs": [
        {
          "output_type": "stream",
          "name": "stdout",
          "text": [
            "root\n",
            " |-- Artist Name: string (nullable = true)\n",
            " |-- Track Name: string (nullable = true)\n",
            " |-- Popularity: double (nullable = true)\n",
            " |-- danceability: double (nullable = true)\n",
            " |-- energy: double (nullable = true)\n",
            " |-- key: double (nullable = true)\n",
            " |-- loudness: double (nullable = true)\n",
            " |-- mode: long (nullable = true)\n",
            " |-- speechiness: double (nullable = true)\n",
            " |-- acousticness: double (nullable = true)\n",
            " |-- instrumentalness: double (nullable = true)\n",
            " |-- liveness: double (nullable = true)\n",
            " |-- valence: double (nullable = true)\n",
            " |-- tempo: double (nullable = true)\n",
            " |-- time_signature: long (nullable = true)\n",
            " |-- Genre: long (nullable = true)\n",
            " |-- duration_in_min: double (nullable = true)\n",
            "\n"
          ]
        }
      ]
    },
    {
      "cell_type": "code",
      "source": [
        "sdf.createTempView(\"Music_Streming\")"
      ],
      "metadata": {
        "id": "ZDd4xgNR9dcl"
      },
      "execution_count": null,
      "outputs": []
    },
    {
      "cell_type": "code",
      "source": [
        "#Remove songs that exceed 5 minutes using duration column as it is the only column representing the song duration\n",
        "result = spark.sql(\"SELECT * FROM Music_Streming WHERE `duration_in_min` <= 5\")\n",
        "\n",
        "# Display the result\n",
        "result.show()"
      ],
      "metadata": {
        "colab": {
          "base_uri": "https://localhost:8080/"
        },
        "id": "RaTDwbid9i6O",
        "outputId": "4dea2adf-d23f-4904-8fc0-b2816692236a"
      },
      "execution_count": null,
      "outputs": [
        {
          "output_type": "stream",
          "name": "stdout",
          "text": [
            "+--------------------+--------------------+----------+------------+------+----+--------+----+-----------+------------+-------------------+--------+-------+-------+--------------+-----+--------------------+\n",
            "|         Artist Name|          Track Name|Popularity|danceability|energy| key|loudness|mode|speechiness|acousticness|   instrumentalness|liveness|valence|  tempo|time_signature|Genre|     duration_in_min|\n",
            "+--------------------+--------------------+----------+------------+------+----+--------+----+-----------+------------+-------------------+--------+-------+-------+--------------+-----+--------------------+\n",
            "|          Bruno Mars|That's What I Lik...|      60.0|       0.854| 0.564| 1.0|  -4.964|   1|     0.0485|      0.0171|0.16510804617704553|  0.0849|  0.899|134.071|             4|    5|  3.9099333333333335|\n",
            "|              Boston|        Hitch a Ride|      54.0|       0.382| 0.814| 3.0|   -7.23|   1|     0.0406|      0.0011|            0.00401|   0.101|  0.569|116.454|             4|   10|             4.19555|\n",
            "|       The Raincoats|  No Side to Fall In|      35.0|       0.434| 0.614| 6.0|  -8.334|   1|     0.0525|       0.486|            1.96E-4|   0.394|  0.787|147.681|             4|    6|  1.8277833333333333|\n",
            "|                Deno|Lingo (feat. J.I ...|      66.0|       0.853| 0.597|10.0|  -6.528|   0|     0.0555|      0.0212|0.16510804617704553|   0.122|  0.569|107.033|             4|    5|  2.8994666666666666|\n",
            "|Red Hot Chili Pep...|Nobody Weird Like...|      53.0|       0.167| 0.975| 2.0|  -4.279|   1|      0.216|     1.69E-4|             0.0161|   0.172| 0.0918| 199.06|             4|   10|   3.832666666666667|\n",
            "|         The Stooges|Search and Destro...|      53.0|       0.235| 0.977| 6.0|   0.878|   1|      0.107|     0.00353|            0.00604|   0.172|  0.241|152.952|             4|    6|  3.4688833333333333|\n",
            "|        Randy Travis|   On the Other Hand|      55.0|       0.657| 0.415| 5.0|  -9.915|   1|      0.025|       0.175|            5.65E-6|   0.132|  0.347|  96.03|             4|    4|      5.176305555E-5|\n",
            "|Professional Murd...|                Slow|      29.0|       0.431| 0.776|10.0|  -5.403|   1|     0.0527|     2.21E-5|             0.0013|   0.179|  0.318|120.857|             4|    8|             3.96445|\n",
            "|       Mohammed Rafi|Meri Dosti Mera Pyar|      11.0|       0.491| 0.563| 7.0|  -8.588|   0|     0.0331|       0.957|             0.0023|   0.263|  0.843| 95.558|             4|    3|7.217416666666666E-5|\n",
            "|      Arctic Monkeys|The View From The...|      59.0|       0.387| 0.922| 9.0|  -5.192|   0|     0.0674|     0.00487|0.16510804617704553|   0.187|  0.417|146.478|             4|   10|  3.7157833333333334|\n",
            "|Harald Lassen, Br...|  How it feels pt. 2|      34.0|       0.462| 0.374|11.0| -12.069|   0|     0.0331|       0.949|              0.929|   0.131|  0.174|122.939|             3|    7|7.400416666666667E-5|\n",
            "| Buffalo Springfield| For What It's Worth|      76.0|       0.653| 0.519| 2.0| -10.164|   1|     0.0497|       0.406|             0.0209|   0.101|  0.822| 98.883|             4|   10|             2.56155|\n",
            "|        Elmore James|       Madison Blues|      37.0|       0.431| 0.852| 2.0|  -6.522|   1|     0.0431|       0.564|              0.208|   0.254|  0.794| 67.601|             4|    2|  2.4466666666666668|\n",
            "|  Velvet Two Stripes|              Drinks|      31.0|       0.564| 0.801| 1.0|   -4.73|   0|     0.0473|     0.00233|             0.0078|   0.067|  0.401| 105.01|             4|   10|             2.57155|\n",
            "|              DaBaby|Baby Sitter (feat...|      70.0|       0.852|  0.73| 1.0|  -5.803|   1|     0.0579|      0.0219|0.16510804617704553|   0.336|  0.394| 92.506|             4|    5|   2.628216666666667|\n",
            "|           Mura Masa|Teenage Headache ...|      48.0|       0.347| 0.411| 6.0|  -8.071|   1|     0.0414|      0.0181|              0.636|  0.0975|  0.395|171.991|             4|    6|  4.7168833333333335|\n",
            "|Clairmont The Second|         intres-ting|      44.0|       0.796| 0.441| 7.0|   -9.83|   1|      0.292|        0.16|            2.89E-5|   0.118|  0.371|158.105|             4|    1|  2.2978666666666667|\n",
            "|           Krankhead|          Cut Throat|      29.0|       0.805| 0.448| 7.0|  -9.452|   1|      0.112|      0.0602|            1.79E-6|   0.113|  0.775|160.018|             4|    5|                 2.3|\n",
            "|               R3HAB| Whiplash - Acoustic|      44.0|       0.556| 0.188| 8.0| -12.161|   1|     0.0316|       0.494|0.16510804617704553|   0.119|  0.184|138.091|             4|    9|  2.4202833333333333|\n",
            "|           MC Hammer|  U Can't Touch This|      73.0|       0.867| 0.517|11.0| -13.222|   0|     0.0875|     0.00456|            3.39E-4|  0.0864|  0.866|133.148|             4|    9|   4.289333333333333|\n",
            "+--------------------+--------------------+----------+------------+------+----+--------+----+-----------+------------+-------------------+--------+-------+-------+--------------+-----+--------------------+\n",
            "only showing top 20 rows\n",
            "\n"
          ]
        }
      ]
    },
    {
      "cell_type": "code",
      "source": [
        "# Display songs by J. Cole, Novo Amor and Anson Seabra\n",
        "result = spark.sql(\"SELECT * FROM Music_Streming WHERE `Artist Name` IN ('J. Cole', 'Novo Amor', 'Anson Seabra')\")\n",
        "\n",
        "# Show the result\n",
        "result.show()\n"
      ],
      "metadata": {
        "colab": {
          "base_uri": "https://localhost:8080/"
        },
        "id": "IY3k13d-AJbL",
        "outputId": "dd422890-84bc-4606-f1a3-b8a2f068ad0d"
      },
      "execution_count": null,
      "outputs": [
        {
          "output_type": "stream",
          "name": "stdout",
          "text": [
            "+------------+--------------------+----------+------------+------+---+--------+----+-----------+------------+-------------------+--------+-------+-------+--------------+-----+------------------+\n",
            "| Artist Name|          Track Name|Popularity|danceability|energy|key|loudness|mode|speechiness|acousticness|   instrumentalness|liveness|valence|  tempo|time_signature|Genre|   duration_in_min|\n",
            "+------------+--------------------+----------+------------+------+---+--------+----+-----------+------------+-------------------+--------+-------+-------+--------------+-----+------------------+\n",
            "|     J. Cole|   i n t e r l u d e|      81.0|        0.77| 0.574|1.0|  -5.525|   1|      0.106|      0.0617|0.16510804617704553|   0.104|  0.104| 98.962|             3|    5| 2.217033333333333|\n",
            "|     J. Cole|m y . l i f e (wi...|      86.0|       0.597| 0.587|7.0|  -7.026|   0|      0.137|      0.0622|0.16510804617704553|   0.214| 0.0753|140.021|             4|    9|            3.6467|\n",
            "|   Novo Amor|            Birdcage|      54.0|       0.574| 0.407|1.0|  -8.321|   1|     0.0243|       0.902|              0.637|  0.0927|  0.223| 82.047|             4|    6|           3.37045|\n",
            "|     J. Cole|a p p l y i n g ....|      82.0|       0.699| 0.759|1.0|  -5.302|   1|      0.311|      0.0814|0.16510804617704553|   0.312|  0.404| 83.092|             4|    5| 2.955616666666667|\n",
            "|     J. Cole|           a m a r i|      86.0|       0.725| 0.713|4.0|  -6.173|   0|      0.187|       0.127|0.16510804617704553|   0.617|  0.207| 65.988|             4|    9|2.4736833333333332|\n",
            "|     J. Cole|           a m a r i|      86.0|       0.725| 0.713|4.0|  -6.173|   0|      0.187|       0.127|0.16510804617704553|   0.617|  0.207| 65.988|             4|    5|2.4736833333333332|\n",
            "|Anson Seabra|           Magazines|      46.0|       0.775| 0.424|5.0| -12.276|   1|     0.0675|       0.511|0.16510804617704553|   0.123|  0.191| 114.95|             4|    9|            3.6675|\n",
            "|Anson Seabra|It's Raining, It'...|      70.0|       0.598| 0.444|2.0|  -8.683|   0|     0.0327|        0.68|            1.94E-5|   0.142|  0.286|113.919|             4|    9|            3.0515|\n",
            "|     J. Cole|l e t . g o . m y...|      82.0|       0.583| 0.625|1.0|  -8.011|   1|      0.277|       0.506|0.16510804617704553|   0.196|  0.516| 89.812|             4|    5| 4.438183333333333|\n",
            "+------------+--------------------+----------+------------+------+---+--------+----+-----------+------------+-------------------+--------+-------+-------+--------------+-----+------------------+\n",
            "\n"
          ]
        }
      ]
    },
    {
      "cell_type": "code",
      "source": [
        "# Count songs in each category\n",
        "result = spark.sql(\"SELECT Genre, COUNT(*) AS SongCount FROM Music_Streming GROUP BY Genre\")\n",
        "\n",
        "# Show the result\n",
        "result.show()\n"
      ],
      "metadata": {
        "colab": {
          "base_uri": "https://localhost:8080/"
        },
        "id": "T_EyHVyqDDSU",
        "outputId": "21545096-a913-43a0-e4b8-af10286b62df"
      },
      "execution_count": null,
      "outputs": [
        {
          "output_type": "stream",
          "name": "stdout",
          "text": [
            "+-----+---------+\n",
            "|Genre|SongCount|\n",
            "+-----+---------+\n",
            "|    0|      499|\n",
            "|    7|      274|\n",
            "|    6|     2094|\n",
            "|    9|     1656|\n",
            "|    5|      876|\n",
            "|    1|     1172|\n",
            "|   10|     3969|\n",
            "|    3|      332|\n",
            "|    8|     1582|\n",
            "|    2|     1066|\n",
            "|    4|      349|\n",
            "+-----+---------+\n",
            "\n"
          ]
        }
      ]
    },
    {
      "cell_type": "code",
      "source": [
        "# Find the artists who dominated the charts\n",
        "result = spark.sql(\"SELECT `Artist Name`, COUNT(*) AS NumberOfSongs FROM Music_Streming GROUP BY `Artist Name` ORDER BY NumberOfSongs DESC\")\n",
        "\n",
        "# Show the result\n",
        "result.show()\n"
      ],
      "metadata": {
        "colab": {
          "base_uri": "https://localhost:8080/"
        },
        "id": "YYzv1r2fDhD4",
        "outputId": "d0bb98fd-0b2a-4760-d606-80d443560bcb"
      },
      "execution_count": null,
      "outputs": [
        {
          "output_type": "stream",
          "name": "stdout",
          "text": [
            "+--------------------+-------------+\n",
            "|         Artist Name|NumberOfSongs|\n",
            "+--------------------+-------------+\n",
            "|     Backstreet Boys|           65|\n",
            "|      Britney Spears|           41|\n",
            "|  The Rolling Stones|           32|\n",
            "|                  U2|           28|\n",
            "|            Westlife|           27|\n",
            "|           Metallica|           26|\n",
            "|      The Black Keys|           22|\n",
            "|     Lata Mangeshkar|           22|\n",
            "|               AC/DC|           22|\n",
            "|             Nirvana|           21|\n",
            "|        Led Zeppelin|           21|\n",
            "|       Fleetwood Mac|           20|\n",
            "|            Coldplay|           20|\n",
            "|       Mohammed Rafi|           20|\n",
            "|           Van Halen|           17|\n",
            "|       Kishore Kumar|           17|\n",
            "|           Pearl Jam|           17|\n",
            "|The Smashing Pump...|           17|\n",
            "|            Deftones|           16|\n",
            "|      Arctic Monkeys|           16|\n",
            "+--------------------+-------------+\n",
            "only showing top 20 rows\n",
            "\n"
          ]
        }
      ]
    },
    {
      "cell_type": "code",
      "source": [
        "# Select the top 10 songs of the year\n",
        "result = spark.sql(\"SELECT `Artist Name`, `Track Name` FROM Music_Streming ORDER BY Popularity DESC LIMIT 10\")\n",
        "\n",
        "# Show the result\n",
        "result.show()\n"
      ],
      "metadata": {
        "colab": {
          "base_uri": "https://localhost:8080/"
        },
        "id": "BKh3hZRjEHcz",
        "outputId": "c4d627a7-d580-4ad1-85f8-3968f9713c4f"
      },
      "execution_count": null,
      "outputs": [
        {
          "output_type": "stream",
          "name": "stdout",
          "text": [
            "+--------------------+--------------------+\n",
            "|         Artist Name|          Track Name|\n",
            "+--------------------+--------------------+\n",
            "|           Lil Nas X|MONTERO (Call Me ...|\n",
            "|            Måneskin|             Beggin'|\n",
            "|      Olivia Rodrigo|            good 4 u|\n",
            "|            Doja Cat|Kiss Me More (fea...|\n",
            "|The Kid LAROI, Ju...|STAY (with Justin...|\n",
            "|         Masked Wolf|Astronaut In The ...|\n",
            "|          Ed Sheeran|          Bad Habits|\n",
            "|The Kid LAROI, Ju...|STAY (with Justin...|\n",
            "|                 BTS|              Butter|\n",
            "|              Polo G|             RAPSTAR|\n",
            "+--------------------+--------------------+\n",
            "\n"
          ]
        }
      ]
    },
    {
      "cell_type": "code",
      "source": [
        "# Recommend 5 party songs\n",
        "result = spark.sql(\"SELECT `Artist Name`, `Track Name` FROM Music_Streming WHERE danceability >= 0.7 AND energy >= 0.7 AND Popularity >= 80 LIMIT 5\")\n",
        "\n",
        "# Show the result\n",
        "result.show()\n"
      ],
      "metadata": {
        "colab": {
          "base_uri": "https://localhost:8080/"
        },
        "id": "S1_rXse_EsBf",
        "outputId": "a99ad799-42c8-4ea9-ee08-4f48ebee678f"
      },
      "execution_count": null,
      "outputs": [
        {
          "output_type": "stream",
          "name": "stdout",
          "text": [
            "+------------------+--------------------+\n",
            "|       Artist Name|          Track Name|\n",
            "+------------------+--------------------+\n",
            "|         DJ Khaled|I DID IT (feat. P...|\n",
            "|Majestic, Boney M.|            Rasputin|\n",
            "|          Doja Cat|Kiss Me More (fea...|\n",
            "|  Gym Class Heroes|Cupid's Chokehold...|\n",
            "|      Dire Straits|    Sultans of Swing|\n",
            "+------------------+--------------------+\n",
            "\n"
          ]
        }
      ]
    }
  ]
}