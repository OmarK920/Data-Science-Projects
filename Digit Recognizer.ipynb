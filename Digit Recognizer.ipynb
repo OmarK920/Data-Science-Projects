{
  "nbformat": 4,
  "nbformat_minor": 0,
  "metadata": {
    "colab": {
      "provenance": []
    },
    "kernelspec": {
      "name": "python3",
      "display_name": "Python 3"
    },
    "language_info": {
      "name": "python"
    }
  },
  "cells": [
    {
      "cell_type": "code",
      "execution_count": 1,
      "metadata": {
        "colab": {
          "base_uri": "https://localhost:8080/"
        },
        "id": "geDDnq2Pyc9H",
        "outputId": "fa9cc4b1-2fb0-4a99-d81e-16852e6c0d32"
      },
      "outputs": [
        {
          "output_type": "stream",
          "name": "stdout",
          "text": [
            "Looking in indexes: https://pypi.org/simple, https://us-python.pkg.dev/colab-wheels/public/simple/\n",
            "Collecting patool\n",
            "  Downloading patool-1.12-py2.py3-none-any.whl (77 kB)\n",
            "\u001b[K     |████████████████████████████████| 77 kB 3.8 MB/s \n",
            "\u001b[?25hInstalling collected packages: patool\n",
            "Successfully installed patool-1.12\n"
          ]
        }
      ],
      "source": [
        "!pip install patool"
      ]
    },
    {
      "cell_type": "code",
      "source": [
        "#method for getting x_tilda for each image\n",
        "#getting the path of the train dataset \n",
        "#intializing the X array with ones \n",
        "#looping on the train set\n",
        "#starting from 1 \n",
        "#generating a path for each image\n",
        "#getting the path of each image, flattening its array, adding ones and add it to the X array "
      ],
      "metadata": {
        "id": "t5Us8b0KS4O2"
      },
      "execution_count": null,
      "outputs": []
    },
    {
      "cell_type": "code",
      "source": [
        "import patoolib"
      ],
      "metadata": {
        "id": "Nm4mBpsc34tB"
      },
      "execution_count": 97,
      "outputs": []
    },
    {
      "cell_type": "code",
      "source": [
        "patoolib.extract_archive('/content/Data.zip')"
      ],
      "metadata": {
        "colab": {
          "base_uri": "https://localhost:8080/",
          "height": 88
        },
        "id": "lBEl-mx7344o",
        "outputId": "7e5bafe1-9d5a-4a42-9b37-e71e8ad61a39"
      },
      "execution_count": 98,
      "outputs": [
        {
          "output_type": "stream",
          "name": "stdout",
          "text": [
            "patool: Extracting /content/Data.zip ...\n",
            "patool: running /usr/bin/7z x -o./Unpack_u4ngbdm7 -- /content/Data.zip\n",
            "patool: ... /content/Data.zip extracted to `Data1' (local file exists).\n"
          ]
        },
        {
          "output_type": "execute_result",
          "data": {
            "text/plain": [
              "'Data1'"
            ],
            "application/vnd.google.colaboratory.intrinsic+json": {
              "type": "string"
            }
          },
          "metadata": {},
          "execution_count": 98
        }
      ]
    },
    {
      "cell_type": "code",
      "source": [
        "import numpy as np\n",
        "from PIL import Image"
      ],
      "metadata": {
        "id": "dcr72rJk4K8a"
      },
      "execution_count": 99,
      "outputs": []
    },
    {
      "cell_type": "code",
      "source": [
        "def assigning(rows,columns,value):\n",
        "  mylist = np.empty([rows,columns], dtype = int)\n",
        "  for i in range(rows):\n",
        "    for j in range(columns):\n",
        "       mylist[i][j] = value\n",
        "  return mylist\n",
        "\n"
      ],
      "metadata": {
        "id": "xOpzPE5pfL5U"
      },
      "execution_count": 100,
      "outputs": []
    },
    {
      "cell_type": "code",
      "source": [
        "#adding the extra column of ones as the LSM requires an extra column of ones\n",
        "images = assigning(2400,785,1)\n",
        "images"
      ],
      "metadata": {
        "id": "gAe_J_UW4hrB",
        "colab": {
          "base_uri": "https://localhost:8080/"
        },
        "outputId": "38048e6a-77a1-4271-b2c4-eaff94f630e1"
      },
      "execution_count": 101,
      "outputs": [
        {
          "output_type": "execute_result",
          "data": {
            "text/plain": [
              "array([[1, 1, 1, ..., 1, 1, 1],\n",
              "       [1, 1, 1, ..., 1, 1, 1],\n",
              "       [1, 1, 1, ..., 1, 1, 1],\n",
              "       ...,\n",
              "       [1, 1, 1, ..., 1, 1, 1],\n",
              "       [1, 1, 1, ..., 1, 1, 1],\n",
              "       [1, 1, 1, ..., 1, 1, 1]])"
            ]
          },
          "metadata": {},
          "execution_count": 101
        }
      ]
    },
    {
      "cell_type": "code",
      "source": [
        "#method for getting x_tilda for each image \n",
        "def getXTilda():\n",
        "#getting the path of the train dataset  \n",
        "    path = \"/content/Data/Train/\"\n",
        "#intializing the X array with ones   \n",
        "    X = assigning(2400, 785, 1)\n",
        "#looping on the train set\n",
        "    for i in range(2400):\n",
        "#starting from 1      \n",
        "      curri = i+1\n",
        "#generating a path for each image      \n",
        "      newpath = path + str(curri) + \".jpg\"\n",
        "#getting the path of each image, flattening its array, adding ones and add it to the X array      \n",
        "      img = Image.open(newpath)\n",
        "      image = np.asarray(img).flatten()\n",
        "      image = np.append(image, [1])\n",
        "      X[i] =  image\n",
        "    return X"
      ],
      "metadata": {
        "id": "1yDL60Cj4xtS"
      },
      "execution_count": 102,
      "outputs": []
    },
    {
      "cell_type": "code",
      "source": [
        "def getTarget(classDigit):\n",
        "    Target = np.ones([2400])\n",
        "    Target *= -1\n",
        "    for i in range (240):\n",
        "        Target[classDigit*240+i] *=-1\n",
        "    return Target"
      ],
      "metadata": {
        "id": "VDIPS7-Y_OA-"
      },
      "execution_count": 103,
      "outputs": []
    },
    {
      "cell_type": "code",
      "source": [
        "def beforeT(xTilda):\n",
        "    Xtranspose = xTilda.transpose()\n",
        "    x_XT = Xtranspose.dot(xTilda)\n",
        "    inverse = np.linalg.pinv(x_XT)\n",
        "    bt = inverse.dot(Xtranspose)\n",
        "    return bt"
      ],
      "metadata": {
        "id": "d5COaFp6GSmH"
      },
      "execution_count": 104,
      "outputs": []
    },
    {
      "cell_type": "code",
      "source": [
        "def getTestImage(path):\n",
        "  img_arr = np.ones([200, 785])\n",
        "  for i in range(200):\n",
        "    c = i+1\n",
        "    newpath = path + str(c) + \".jpg\"\n",
        "    img = Image.open(newpath)\n",
        "    image = np.asarray(img).flatten()\n",
        "    image = np.append(image, [1])\n",
        "    img_arr[i] =  image\n",
        "  return img_arr"
      ],
      "metadata": {
        "id": "1Dg0r78jCMfZ"
      },
      "execution_count": 105,
      "outputs": []
    },
    {
      "cell_type": "code",
      "source": [
        "def test(path):\n",
        "    X = getXTilda()\n",
        "    bt = beforeT(X)\n",
        "    res = np.ones([200])\n",
        "    for i in range(200):\n",
        "        test_img = getTestImage(path)\n",
        "        Weights = np.zeros([10])\n",
        "        diff= np.zeros([10])\n",
        "        for j in range(10):\n",
        "            W = np.dot(getTarget(j),bt)\n",
        "            Weights[j] = np.dot(W,test_img[i])\n",
        "            diff[j] = pow(np.subtract(Weights[j],1),2) \n",
        "        Min = np.amin(diff) \n",
        "        res[i] = np.where(diff == Min)[0][0]\n",
        "    return res"
      ],
      "metadata": {
        "id": "-Kl8LtQXGrIG"
      },
      "execution_count": 113,
      "outputs": []
    },
    {
      "cell_type": "code",
      "source": [
        "from sklearn.metrics import confusion_matrix\n"
      ],
      "metadata": {
        "id": "dISphu9cXJqL"
      },
      "execution_count": 80,
      "outputs": []
    },
    {
      "cell_type": "code",
      "source": [
        "original1= np.genfromtxt(\"/content/Data/Test/Test Labels.txt\", delimiter = \",\")\n",
        "cf_matrix = confusion_matrix(original1,test('/content/Data/Test/'))\n",
        "print(cf_matrix)"
      ],
      "metadata": {
        "colab": {
          "base_uri": "https://localhost:8080/",
          "height": 351
        },
        "id": "XEk5-53vYVXk",
        "outputId": "b96a2a63-7043-4c8c-afed-6749babc935a"
      },
      "execution_count": 114,
      "outputs": [
        {
          "output_type": "error",
          "ename": "ValueError",
          "evalue": "ignored",
          "traceback": [
            "\u001b[0;31m---------------------------------------------------------------------------\u001b[0m",
            "\u001b[0;31mValueError\u001b[0m                                Traceback (most recent call last)",
            "\u001b[0;32m<ipython-input-114-8fc78d76ff9f>\u001b[0m in \u001b[0;36m<module>\u001b[0;34m\u001b[0m\n\u001b[1;32m      1\u001b[0m \u001b[0moriginal1\u001b[0m\u001b[0;34m=\u001b[0m \u001b[0mnp\u001b[0m\u001b[0;34m.\u001b[0m\u001b[0mgenfromtxt\u001b[0m\u001b[0;34m(\u001b[0m\u001b[0;34m\"/content/Data/Test/Test Labels.txt\"\u001b[0m\u001b[0;34m,\u001b[0m \u001b[0mdelimiter\u001b[0m \u001b[0;34m=\u001b[0m \u001b[0;34m\",\"\u001b[0m\u001b[0;34m)\u001b[0m\u001b[0;34m\u001b[0m\u001b[0;34m\u001b[0m\u001b[0m\n\u001b[0;32m----> 2\u001b[0;31m \u001b[0mcf_matrix\u001b[0m \u001b[0;34m=\u001b[0m \u001b[0mconfusion_matrix\u001b[0m\u001b[0;34m(\u001b[0m\u001b[0moriginal1\u001b[0m\u001b[0;34m,\u001b[0m\u001b[0mtest\u001b[0m\u001b[0;34m(\u001b[0m\u001b[0;34m'/content/Data/Test/'\u001b[0m\u001b[0;34m)\u001b[0m\u001b[0;34m)\u001b[0m\u001b[0;34m\u001b[0m\u001b[0;34m\u001b[0m\u001b[0m\n\u001b[0m\u001b[1;32m      3\u001b[0m \u001b[0mprint\u001b[0m\u001b[0;34m(\u001b[0m\u001b[0mcf_matrix\u001b[0m\u001b[0;34m)\u001b[0m\u001b[0;34m\u001b[0m\u001b[0;34m\u001b[0m\u001b[0m\n",
            "\u001b[0;32m<ipython-input-113-f11fa5ab9827>\u001b[0m in \u001b[0;36mtest\u001b[0;34m(path)\u001b[0m\n\u001b[1;32m      8\u001b[0m         \u001b[0mdiff\u001b[0m\u001b[0;34m=\u001b[0m \u001b[0mnp\u001b[0m\u001b[0;34m.\u001b[0m\u001b[0mzeros\u001b[0m\u001b[0;34m(\u001b[0m\u001b[0;34m[\u001b[0m\u001b[0;36m10\u001b[0m\u001b[0;34m]\u001b[0m\u001b[0;34m)\u001b[0m\u001b[0;34m\u001b[0m\u001b[0;34m\u001b[0m\u001b[0m\n\u001b[1;32m      9\u001b[0m         \u001b[0;32mfor\u001b[0m \u001b[0mj\u001b[0m \u001b[0;32min\u001b[0m \u001b[0mrange\u001b[0m\u001b[0;34m(\u001b[0m\u001b[0;36m10\u001b[0m\u001b[0;34m)\u001b[0m\u001b[0;34m:\u001b[0m\u001b[0;34m\u001b[0m\u001b[0;34m\u001b[0m\u001b[0m\n\u001b[0;32m---> 10\u001b[0;31m             \u001b[0mW\u001b[0m \u001b[0;34m=\u001b[0m \u001b[0mnp\u001b[0m\u001b[0;34m.\u001b[0m\u001b[0mdot\u001b[0m\u001b[0;34m(\u001b[0m\u001b[0mgetTarget\u001b[0m\u001b[0;34m(\u001b[0m\u001b[0mj\u001b[0m\u001b[0;34m)\u001b[0m\u001b[0;34m,\u001b[0m\u001b[0mbt\u001b[0m\u001b[0;34m)\u001b[0m\u001b[0;34m\u001b[0m\u001b[0;34m\u001b[0m\u001b[0m\n\u001b[0m\u001b[1;32m     11\u001b[0m             \u001b[0mWeights\u001b[0m\u001b[0;34m[\u001b[0m\u001b[0mj\u001b[0m\u001b[0;34m]\u001b[0m \u001b[0;34m=\u001b[0m \u001b[0mnp\u001b[0m\u001b[0;34m.\u001b[0m\u001b[0mdot\u001b[0m\u001b[0;34m(\u001b[0m\u001b[0mW\u001b[0m\u001b[0;34m,\u001b[0m\u001b[0mtest_img\u001b[0m\u001b[0;34m[\u001b[0m\u001b[0mi\u001b[0m\u001b[0;34m]\u001b[0m\u001b[0;34m)\u001b[0m\u001b[0;34m\u001b[0m\u001b[0;34m\u001b[0m\u001b[0m\n\u001b[1;32m     12\u001b[0m             \u001b[0mdiff\u001b[0m\u001b[0;34m[\u001b[0m\u001b[0mj\u001b[0m\u001b[0;34m]\u001b[0m \u001b[0;34m=\u001b[0m \u001b[0mpow\u001b[0m\u001b[0;34m(\u001b[0m\u001b[0mnp\u001b[0m\u001b[0;34m.\u001b[0m\u001b[0msubtract\u001b[0m\u001b[0;34m(\u001b[0m\u001b[0mWeights\u001b[0m\u001b[0;34m[\u001b[0m\u001b[0mj\u001b[0m\u001b[0;34m]\u001b[0m\u001b[0;34m,\u001b[0m\u001b[0;36m1\u001b[0m\u001b[0;34m)\u001b[0m\u001b[0;34m,\u001b[0m\u001b[0;36m2\u001b[0m\u001b[0;34m)\u001b[0m\u001b[0;34m\u001b[0m\u001b[0;34m\u001b[0m\u001b[0m\n",
            "\u001b[0;32m<__array_function__ internals>\u001b[0m in \u001b[0;36mdot\u001b[0;34m(*args, **kwargs)\u001b[0m\n",
            "\u001b[0;31mValueError\u001b[0m: shapes (2400,) and (785,2400) not aligned: 2400 (dim 0) != 785 (dim 0)"
          ]
        }
      ]
    },
    {
      "cell_type": "code",
      "source": [
        "original1= np.genfromtxt(\"/content/Data/Test/Test Labels.txt\", delimiter = \",\")\n",
        "results1 = test('/content/Data/Test/')\n",
        "cf_matrix = confusion_matrix(original1, results1)\n",
        "print(cf_matrix)"
      ],
      "metadata": {
        "id": "vnXFbwqo89Gy"
      },
      "execution_count": null,
      "outputs": []
    },
    {
      "cell_type": "code",
      "source": [
        "import seaborn as sns\n",
        "sns.heatmap(cf_matrix, annot=True)"
      ],
      "metadata": {
        "colab": {
          "base_uri": "https://localhost:8080/",
          "height": 286
        },
        "id": "6m8jtYMpYYb6",
        "outputId": "90816824-45d3-4f50-81c3-f7aaaaf0c9b1"
      },
      "execution_count": 20,
      "outputs": [
        {
          "output_type": "execute_result",
          "data": {
            "text/plain": [
              "<matplotlib.axes._subplots.AxesSubplot at 0x7f6739351eb0>"
            ]
          },
          "metadata": {},
          "execution_count": 20
        },
        {
          "output_type": "display_data",
          "data": {
            "text/plain": [
              "<Figure size 432x288 with 2 Axes>"
            ],
            "image/png": "[encoded data removed]"
          },
          "metadata": {
            "needs_background": "light"
          }
        }
      ]
    }
  ]
}