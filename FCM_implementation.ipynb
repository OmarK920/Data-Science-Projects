{
  "nbformat": 4,
  "nbformat_minor": 0,
  "metadata": {
    "colab": {
      "provenance": [],
      "include_colab_link": true
    },
    "kernelspec": {
      "name": "python3",
      "display_name": "Python 3"
    },
    "language_info": {
      "name": "python"
    }
  },
  "cells": [
    {
      "cell_type": "markdown",
      "metadata": {
        "id": "view-in-github",
        "colab_type": "text"
      },
      "source": [
        "<a href=\"https://colab.research.google.com/github/OmarK920/Data-Science-Projects/blob/main/FCM_implementation.ipynb\" target=\"_parent\"><img src=\"https://colab.research.google.com/assets/colab-badge.svg\" alt=\"Open In Colab\"/></a>"
      ]
    },
    {
      "cell_type": "code",
      "execution_count": null,
      "metadata": {
        "id": "4QOPnV-laAr2"
      },
      "outputs": [],
      "source": [
        "import numpy as np\n",
        "import pandas as pd"
      ]
    },
    {
      "cell_type": "code",
      "source": [
        "#Given data points and initial clusters\n",
        "DataPoints = np.array([[3, 5], [4, 6], [2, 8], [2, 3], [1, 4]])\n",
        "Clusters = np.array([[2, 4], [1, 7]])"
      ],
      "metadata": {
        "id": "1SboFLMRbY70"
      },
      "execution_count": null,
      "outputs": []
    },
    {
      "cell_type": "code",
      "source": [
        "# Compute the \"Euclidean distance\"\n",
        "def distance(x, y):\n",
        "    return np.sqrt(np.sum(pow((x-y), 2)))"
      ],
      "metadata": {
        "id": "won6EXq4aJEG"
      },
      "execution_count": null,
      "outputs": []
    },
    {
      "cell_type": "code",
      "source": [
        "from scipy.spatial.distance import cdist\n",
        "#This implementation uses the cdist function from SciPy's spatial.distance module to compute the Euclidiean distances between each point in data and each point in clusters.\n",
        "#The resulting array contains the Euclidean distances between each pair of points.\n",
        "#i chose this method because it is more efficient than using nested loops to compute the same outcome and it gave me the same results in both implementations\n",
        "\n",
        "def calculateDistancescipy(data, clusters):\n",
        "    return cdist(data, clusters)\n"
      ],
      "metadata": {
        "id": "BWW962z3oNA4"
      },
      "execution_count": null,
      "outputs": []
    },
    {
      "cell_type": "code",
      "source": [
        "distances = np.array(calculateDistancescipy(DataPoints,Clusters))"
      ],
      "metadata": {
        "id": "S3xE_RcXobYT"
      },
      "execution_count": null,
      "outputs": []
    },
    {
      "cell_type": "code",
      "source": [
        "#Calculate the membership for each point for each cluster\n",
        "#Note ===> \"q\" represents how much each data point can belong to multiple clusters\n",
        "#Function steps:\n",
        "#1) initialize an array of 'membership'\n",
        "#2)iterates through each element in the 'distances' array which i created above.\n",
        "#3)Calculate the membership for each point for each cluster\n",
        "\n",
        "def calculateMembership(distances, q):\n",
        "    membership = np.zeros((len(distances), len(distances[0])))\n",
        "    for i in range(len(distances)):\n",
        "        for j in range(len(distances[0])):\n",
        "            if distances[i][j] == 0:\n",
        "                membership[i][j] = 1\n",
        "            else:\n",
        "                membership[i][j] = 1 / np.sum(pow((distances[i] / distances[i][j]), (2/(q-1))))\n",
        "    return membership\n"
      ],
      "metadata": {
        "id": "x-2aSxFmaTJW"
      },
      "execution_count": null,
      "outputs": []
    },
    {
      "cell_type": "code",
      "source": [
        "calculateMembership(distances,2)"
      ],
      "metadata": {
        "colab": {
          "base_uri": "https://localhost:8080/"
        },
        "id": "BRIvRWhZuMAp",
        "outputId": "75970b4a-6472-4ef9-c503-7b1d1fbef90f"
      },
      "execution_count": null,
      "outputs": [
        {
          "output_type": "execute_result",
          "data": {
            "text/plain": [
              "array([[0.2       , 0.8       ],\n",
              "       [0.44444444, 0.55555556],\n",
              "       [0.88888889, 0.11111111],\n",
              "       [0.05555556, 0.94444444],\n",
              "       [0.1       , 0.9       ]])"
            ]
          },
          "metadata": {},
          "execution_count": 45
        }
      ]
    },
    {
      "cell_type": "code",
      "source": [
        "membership = np.array(calculateMembership(distances,2))"
      ],
      "metadata": {
        "id": "umFc24jH1PnU"
      },
      "execution_count": null,
      "outputs": []
    },
    {
      "cell_type": "code",
      "source": [
        "# this function is used to update the cluster centers\n",
        "def updateClusterMean(data, memberships, q):\n",
        "\n",
        "    n_features = data.shape[1]\n",
        "    K = memberships.shape[1]\n",
        "    means = np.zeros((K, n_features))\n",
        "    Um = memberships ** q\n",
        "\n",
        "    # Loop over all clusters\n",
        "    for j in range(K):\n",
        "\n",
        "        uj = Um[:, j].reshape(-1, 1)\n",
        "        means[j, :] = (data * uj).sum(axis=0) / uj.sum()\n",
        "\n",
        "    return means\n"
      ],
      "metadata": {
        "id": "bhGzRYvfaaRC"
      },
      "execution_count": null,
      "outputs": []
    },
    {
      "cell_type": "code",
      "source": [
        "updateClusterMean(DataPoints,membership ,2 )"
      ],
      "metadata": {
        "colab": {
          "base_uri": "https://localhost:8080/"
        },
        "id": "U9leHJw-SD7w",
        "outputId": "a36b0f85-dea1-419e-d589-535f544879db"
      },
      "execution_count": null,
      "outputs": [
        {
          "output_type": "execute_result",
          "data": {
            "text/plain": [
              "array([[2.4084223 , 7.45183867],\n",
              "       [2.16796477, 4.15572554]])"
            ]
          },
          "metadata": {},
          "execution_count": 62
        }
      ]
    },
    {
      "cell_type": "code",
      "source": [
        "#Calculate the objective function value\n",
        "def calculateObjectiveFunc(data, membership, clusters, q, lamda):\n",
        "    J = 0\n",
        "    for i in range(len(data)):\n",
        "        for j in range(len(clusters)):\n",
        "            J += pow(membership[i][j], q) * pow(distance(data[i], clusters[j]), 2)#sums up each data point and cluster pair to the objective function value.\n",
        "    J *= lamda# scales the objective function\n",
        "    for i in range(len(data)):\n",
        "        for j in range(len(clusters)):\n",
        "            J += pow(membership[i][j], q)#adds the membership value of each data point in each cluster to the objective function value.\n",
        "    return J"
      ],
      "metadata": {
        "id": "gKWx5ze9ae7e"
      },
      "execution_count": null,
      "outputs": []
    },
    {
      "cell_type": "code",
      "source": [
        "calculateObjectiveFunc(DataPoints ,membership , Clusters , 2 ,1 )"
      ],
      "metadata": {
        "colab": {
          "base_uri": "https://localhost:8080/"
        },
        "id": "kJuRcw5a5w3s",
        "outputId": "5142276c-d815-402b-a22e-b1c2a686af5e"
      },
      "execution_count": null,
      "outputs": [
        {
          "output_type": "execute_result",
          "data": {
            "text/plain": [
              "48.70370370370371"
            ]
          },
          "metadata": {},
          "execution_count": 50
        }
      ]
    },
    {
      "cell_type": "code",
      "source": [
        "# putting all the functions together and repeat till convergence\n",
        "def reachConvergence(data, clusters, q, lamda):\n",
        "    # Initialize the memberships and objective function\n",
        "    membership = np.zeros((len(data), len(clusters)))\n",
        "    prev_obj = calculateObjectiveFunc(data, membership, clusters, q, lamda)\n",
        "\n",
        "    # Keep iterating until convergence\n",
        "    while True:\n",
        "        # Calculate the distance between data points and cluster centers\n",
        "        distances = calculateDistancescipy(data, clusters)\n",
        "\n",
        "        # Calculate the membership for each point for each cluster\n",
        "        membership = calculateMembership(distances, q)\n",
        "\n",
        "        # Update the cluster centers\n",
        "        new_clusters = updateClusterMean(data, membership, q)\n",
        "\n",
        "        # Calculate the new objective function value\n",
        "        new_obj = calculateObjectiveFunc(data, membership, new_clusters, q, lamda)\n",
        "\n",
        "        # Check for convergence\n",
        "        if abs(new_obj - prev_obj) < 0.01:\n",
        "            return membership, new_clusters\n",
        "\n",
        "        # Update the objective function and cluster centers for the next iteration\n",
        "        prev_obj = new_obj\n",
        "        clusters = new_clusters\n"
      ],
      "metadata": {
        "id": "zKlV7nO6ajbc"
      },
      "execution_count": null,
      "outputs": []
    },
    {
      "cell_type": "code",
      "source": [
        "reachConvergence(DataPoints,Clusters,2,1)"
      ],
      "metadata": {
        "colab": {
          "base_uri": "https://localhost:8080/"
        },
        "id": "7JpvFE2casz2",
        "outputId": "d7f38caf-2342-45b3-b7e8-a301fea42c5a"
      },
      "execution_count": null,
      "outputs": [
        {
          "output_type": "execute_result",
          "data": {
            "text/plain": [
              "(array([[0.48895406, 0.51104594],\n",
              "        [0.84985091, 0.15014909],\n",
              "        [0.88759019, 0.11240981],\n",
              "        [0.03958363, 0.96041637],\n",
              "        [0.05019534, 0.94980466]]),\n",
              " [[2.9588325693135946, 6.756786238891717],\n",
              "  [1.7190448119462898, 3.733318693008251]])"
            ]
          },
          "metadata": {},
          "execution_count": 52
        }
      ]
    }
  ]
}